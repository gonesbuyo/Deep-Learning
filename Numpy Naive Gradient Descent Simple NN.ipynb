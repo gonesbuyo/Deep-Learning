{
 "cells": [
  {
   "cell_type": "markdown",
   "metadata": {},
   "source": [
    "The difference with respect to Numpy Simple Neural Network is that here we apply Naive Gradient Descent to update the weights: we compute the gradient in stead of just calculating the delta"
   ]
  },
  {
   "cell_type": "code",
   "execution_count": 18,
   "metadata": {
    "collapsed": true
   },
   "outputs": [],
   "source": [
    "import numpy as np"
   ]
  },
  {
   "cell_type": "code",
   "execution_count": 19,
   "metadata": {
    "collapsed": true
   },
   "outputs": [],
   "source": [
    "# sigmoid function\n",
    "def sigmoid(x):\n",
    "    output = 1/(1+np.exp(-x))\n",
    "    return output"
   ]
  },
  {
   "cell_type": "code",
   "execution_count": 20,
   "metadata": {
    "collapsed": true
   },
   "outputs": [],
   "source": [
    "# sigmoid derivative function\n",
    "def sigmoid2derivative(output):\n",
    "    return output*(1-output)"
   ]
  },
  {
   "cell_type": "code",
   "execution_count": 21,
   "metadata": {
    "collapsed": false
   },
   "outputs": [],
   "source": [
    "# input\n",
    "X = np.array([[0,1],\n",
    "              [0,1],\n",
    "              [1,0],\n",
    "              [1,0]])\n",
    "\n",
    "# output\n",
    "y = np.array([[0,0,1,1]]).T"
   ]
  },
  {
   "cell_type": "code",
   "execution_count": 22,
   "metadata": {
    "collapsed": true
   },
   "outputs": [],
   "source": [
    "np.random.seed(1)\n",
    "\n",
    "# random initial weights\n",
    "synapse_0 = 2*np.random.random((2,1)) - 1"
   ]
  },
  {
   "cell_type": "code",
   "execution_count": 23,
   "metadata": {
    "collapsed": false
   },
   "outputs": [],
   "source": [
    "for i in xrange(10000):\n",
    "    \n",
    "    # forward propagation\n",
    "    layer_0 = X\n",
    "    layer_1 = sigmoid(np.dot(layer_0,synapse_0))\n",
    "    \n",
    "    # error\n",
    "    layer_1_error = y - layer_1\n",
    "    \n",
    "    '''GRADIENT DESCENT: compute gradient & update the weights'''\n",
    "    # gradient\n",
    "    layer_1_delta = layer_1_error * sigmoid2derivative(layer_1)\n",
    "    synapse_0_derivative = np.dot(layer_0.T, layer_1_delta)\n",
    "    \n",
    "    # update weights\n",
    "    synapse_0 -= synapse_0_derivative"
   ]
  },
  {
   "cell_type": "code",
   "execution_count": 24,
   "metadata": {
    "collapsed": false
   },
   "outputs": [
    {
     "name": "stdout",
     "output_type": "stream",
     "text": [
      "Output after training:\n",
      "[[  9.99949945e-01]\n",
      " [  9.99949945e-01]\n",
      " [  5.00601027e-05]\n",
      " [  5.00601027e-05]]\n"
     ]
    }
   ],
   "source": [
    "print \"Output after training:\"\n",
    "print layer_1"
   ]
  },
  {
   "cell_type": "code",
   "execution_count": null,
   "metadata": {
    "collapsed": true
   },
   "outputs": [],
   "source": []
  }
 ],
 "metadata": {
  "kernelspec": {
   "display_name": "Python 2",
   "language": "python",
   "name": "python2"
  },
  "language_info": {
   "codemirror_mode": {
    "name": "ipython",
    "version": 2
   },
   "file_extension": ".py",
   "mimetype": "text/x-python",
   "name": "python",
   "nbconvert_exporter": "python",
   "pygments_lexer": "ipython2",
   "version": "2.7.13"
  }
 },
 "nbformat": 4,
 "nbformat_minor": 2
}
