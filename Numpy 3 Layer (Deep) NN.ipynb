{
 "cells": [
  {
   "cell_type": "code",
   "execution_count": 2,
   "metadata": {
    "collapsed": true,
    "deletable": true,
    "editable": true
   },
   "outputs": [],
   "source": [
    "import numpy as np"
   ]
  },
  {
   "cell_type": "code",
   "execution_count": 3,
   "metadata": {
    "collapsed": true,
    "deletable": true,
    "editable": true
   },
   "outputs": [],
   "source": [
    "def nonlin(x, deriv = False):\n",
    "    if (deriv == True):\n",
    "        return x * (1 - x)\n",
    "    return 1 / (1 + np.exp(-x))"
   ]
  },
  {
   "cell_type": "code",
   "execution_count": 4,
   "metadata": {
    "collapsed": true,
    "deletable": true,
    "editable": true
   },
   "outputs": [],
   "source": [
    "X = np.array([[0,0,1],\n",
    "              [0,1,1],\n",
    "              [1,0,1],\n",
    "              [1,1,1]])\n",
    "\n",
    "y = np.array([[0,1,1,0]]).T"
   ]
  },
  {
   "cell_type": "code",
   "execution_count": 9,
   "metadata": {
    "collapsed": false,
    "deletable": true,
    "editable": true
   },
   "outputs": [],
   "source": [
    "np.random.seed(1)\n",
    "\n",
    "# synapses from layer 0 to 1\n",
    "syn0 = 2 * np.random.random((3,4)) - 1\n",
    "# synapses from layer 1 to 2\n",
    "syn1 = 2 * np.random.random((4,1)) - 1"
   ]
  },
  {
   "cell_type": "code",
   "execution_count": 13,
   "metadata": {
    "collapsed": false,
    "deletable": true,
    "editable": true
   },
   "outputs": [
    {
     "name": "stdout",
     "output_type": "stream",
     "text": [
      "Error: 0.00203411981808\n",
      "Error: 0.00196191554819\n",
      "Error: 0.00189677121076\n",
      "Error: 0.00183761229569\n",
      "Error: 0.00178357956737\n",
      "Error: 0.00173397669119\n",
      "Error: 0.00168823262066\n",
      "Error: 0.00164587407156\n"
     ]
    }
   ],
   "source": [
    "for i in xrange(80000):\n",
    "    # Layers\n",
    "    l0 = X\n",
    "    l1 = nonlin((np.dot(X, syn0)))\n",
    "    l2 = nonlin((np.dot(l1, syn1)))\n",
    "    \n",
    "    # final error\n",
    "    l2_error = y - l2\n",
    "    \n",
    "    # to see how the error value evolves\n",
    "    if (i % 10000) == 0:\n",
    "        print \"Error: \" + str(np.mean(np.abs(l2_error)))\n",
    "    \n",
    "    # delta for layer 2\n",
    "    l2_delta = l2_error * nonlin(l2, True)\n",
    "    \n",
    "    # error of l2 depending of each l1\n",
    "    l1_error = l2_delta.dot(syn1.T)\n",
    "    \n",
    "    # delta for layer 1\n",
    "    l1_delta = l1_error * nonlin(l1, True)\n",
    "    \n",
    "    # update synapses\n",
    "    syn1 += l1.T.dot(l2_delta)\n",
    "    syn0 += l0.T.dot(l1_delta)"
   ]
  },
  {
   "cell_type": "code",
   "execution_count": null,
   "metadata": {
    "collapsed": true,
    "deletable": true,
    "editable": true
   },
   "outputs": [],
   "source": []
  }
 ],
 "metadata": {
  "kernelspec": {
   "display_name": "Python 2",
   "language": "python",
   "name": "python2"
  },
  "language_info": {
   "codemirror_mode": {
    "name": "ipython",
    "version": 2
   },
   "file_extension": ".py",
   "mimetype": "text/x-python",
   "name": "python",
   "nbconvert_exporter": "python",
   "pygments_lexer": "ipython2",
   "version": "2.7.13"
  }
 },
 "nbformat": 4,
 "nbformat_minor": 2
}
